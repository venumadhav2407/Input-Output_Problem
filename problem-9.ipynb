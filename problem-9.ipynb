{
 "cells": [
  {
   "cell_type": "markdown",
   "metadata": {},
   "source": [
    "# Write a code to get the input in the given format and print the output in the given format.\n",
    "\n",
    "Input Description:\n",
    "A single line contains a string.\n",
    "\n",
    "Output Description:\n",
    "Print the characters in a string separated by line.\n",
    "\n",
    "Sample Input :\n",
    "guvigeek\n",
    "Sample Output :\n",
    "\n",
    "g\n",
    "\n",
    "u\n",
    "\n",
    "v\n",
    "\n",
    "i\n",
    "\n",
    "g\n",
    "\n",
    "e\n",
    "\n",
    "e\n",
    "\n",
    "k"
   ]
  },
  {
   "cell_type": "code",
   "execution_count": 4,
   "metadata": {},
   "outputs": [
    {
     "name": "stdout",
     "output_type": "stream",
     "text": [
      "h\n",
      "e\n",
      "l\n",
      "l\n",
      "o\n",
      " \n",
      "b\n",
      "u\n",
      "d\n",
      "d\n",
      "y\n"
     ]
    }
   ],
   "source": [
    "Str = input()\n",
    "\n",
    "for i in Str:\n",
    "    print(i)\n",
    "\n",
    "# or \n",
    "\n",
    "print(\"\\n\".join(Str))"
   ]
  }
 ],
 "metadata": {
  "kernelspec": {
   "display_name": "Python 3",
   "language": "python",
   "name": "python3"
  },
  "language_info": {
   "codemirror_mode": {
    "name": "ipython",
    "version": 3
   },
   "file_extension": ".py",
   "mimetype": "text/x-python",
   "name": "python",
   "nbconvert_exporter": "python",
   "pygments_lexer": "ipython3",
   "version": "3.12.0"
  }
 },
 "nbformat": 4,
 "nbformat_minor": 2
}
