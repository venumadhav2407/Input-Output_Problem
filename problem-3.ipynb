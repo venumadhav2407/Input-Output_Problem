{
 "cells": [
  {
   "cell_type": "markdown",
   "metadata": {},
   "source": [
    "# Write a code to get the input in the given format and print the output in the given format.\n",
    "\n",
    "Input Description:\n",
    "First-line indicates two integers which are the size of array and 'K' value. Second-line indicates an integer contains elements of an array.\n",
    "\n",
    "Output Description:\n",
    "Print the taken input in the same format.\n",
    "\n",
    "Sample Input :\n",
    "5 3\n",
    "1 2 3 4 5\n",
    "Sample Output :\n",
    "\n",
    "5 3\n",
    "\n",
    "1 2 3 4 5"
   ]
  },
  {
   "cell_type": "code",
   "execution_count": null,
   "metadata": {},
   "outputs": [],
   "source": [
    "size, K = map(int, input().split())\n",
    "\n",
    "# Input elements of the array\n",
    "elements = list(map(int, input().split()))\n",
    "\n",
    "# Print the input in the same format\n",
    "print(size, K)\n",
    "print(\" \".join(map(str, elements)))  # or print(*elements)"
   ]
  }
 ],
 "metadata": {
  "kernelspec": {
   "display_name": "Python 3",
   "language": "python",
   "name": "python3"
  },
  "language_info": {
   "name": "python",
   "version": "3.12.0"
  }
 },
 "nbformat": 4,
 "nbformat_minor": 2
}
