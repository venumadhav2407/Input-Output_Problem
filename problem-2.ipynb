{
 "cells": [
  {
   "cell_type": "markdown",
   "metadata": {},
   "source": [
    "# Write a code to get the input in the given format and print the output in the given format\n",
    "\n",
    "Input Description:\n",
    "A single line contains integers separated by space\n",
    "\n",
    "Output Description:\n",
    "Print the integer list of integers separated by space\n",
    "\n",
    "Sample Input :\n",
    "2 3 4 5 6 7 8\n",
    "Sample Output :\n",
    "2 3 4 5 6 7 8"
   ]
  },
  {
   "cell_type": "code",
   "execution_count": 1,
   "metadata": {},
   "outputs": [
    {
     "name": "stdout",
     "output_type": "stream",
     "text": [
      "2 3 6 5 8 4 9 7 8 10\n"
     ]
    }
   ],
   "source": [
    "userInput = list(map(int, input().split()))\n",
    "print(*userInput)"
   ]
  }
 ],
 "metadata": {
  "kernelspec": {
   "display_name": "Python 3",
   "language": "python",
   "name": "python3"
  },
  "language_info": {
   "codemirror_mode": {
    "name": "ipython",
    "version": 3
   },
   "file_extension": ".py",
   "mimetype": "text/x-python",
   "name": "python",
   "nbconvert_exporter": "python",
   "pygments_lexer": "ipython3",
   "version": "3.12.0"
  }
 },
 "nbformat": 4,
 "nbformat_minor": 2
}
