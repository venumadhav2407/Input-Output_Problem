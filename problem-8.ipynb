{
 "cells": [
  {
   "cell_type": "markdown",
   "metadata": {},
   "source": [
    "# Write a code to get the input in the given format and print the output in the given format.\n",
    "\n",
    "Input Description:\n",
    "A single line contains three float values separated by space.\n",
    "\n",
    "Output Description:\n",
    "Print the float value separated by line.\n",
    "\n",
    "Sample Input :\n",
    "2.3 4.5 7.8\n",
    "Sample Output :\n",
    "\n",
    "2.3\n",
    "\n",
    "4.5\n",
    "\n",
    "7.8"
   ]
  },
  {
   "cell_type": "code",
   "execution_count": 1,
   "metadata": {},
   "outputs": [
    {
     "name": "stdout",
     "output_type": "stream",
     "text": [
      "1.2\n",
      "3.2\n",
      "3.6\n"
     ]
    }
   ],
   "source": [
    "a, b, c = map(float, input().split())\n",
    "print(a)\n",
    "print(b)\n",
    "print(c)"
   ]
  }
 ],
 "metadata": {
  "kernelspec": {
   "display_name": "Python 3",
   "language": "python",
   "name": "python3"
  },
  "language_info": {
   "codemirror_mode": {
    "name": "ipython",
    "version": 3
   },
   "file_extension": ".py",
   "mimetype": "text/x-python",
   "name": "python",
   "nbconvert_exporter": "python",
   "pygments_lexer": "ipython3",
   "version": "3.12.0"
  }
 },
 "nbformat": 4,
 "nbformat_minor": 2
}
