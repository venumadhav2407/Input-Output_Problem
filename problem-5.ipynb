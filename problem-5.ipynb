{
 "cells": [
  {
   "cell_type": "markdown",
   "metadata": {},
   "source": [
    "# Write a code to get the input in the given format and print the output in the given format\n",
    "\n",
    "Input Description:\n",
    "Three integers are given in line by line.\n",
    "\n",
    "Output Description:\n",
    "Print the integers in a single line separate by space.\n",
    "\n",
    "Sample Input :\n",
    "\n",
    " 2\n",
    "\n",
    " 4\n",
    " \n",
    " 5\n",
    " \n",
    "Sample Output :\n",
    "2 4 5"
   ]
  },
  {
   "cell_type": "code",
   "execution_count": 1,
   "metadata": {},
   "outputs": [
    {
     "name": "stdout",
     "output_type": "stream",
     "text": [
      "2 5 6\n"
     ]
    }
   ],
   "source": [
    "arr = []\n",
    "for i in range(3):\n",
    "    arr.append(int(input()))\n",
    "    \n",
    "print(*arr)"
   ]
  }
 ],
 "metadata": {
  "kernelspec": {
   "display_name": "Python 3",
   "language": "python",
   "name": "python3"
  },
  "language_info": {
   "codemirror_mode": {
    "name": "ipython",
    "version": 3
   },
   "file_extension": ".py",
   "mimetype": "text/x-python",
   "name": "python",
   "nbconvert_exporter": "python",
   "pygments_lexer": "ipython3",
   "version": "3.12.0"
  }
 },
 "nbformat": 4,
 "nbformat_minor": 2
}
