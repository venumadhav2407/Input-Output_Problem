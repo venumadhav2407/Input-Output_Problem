{
 "cells": [
  {
   "cell_type": "markdown",
   "metadata": {},
   "source": [
    "# Write a code to get the input in the given format and print the output in the given format\n",
    "\n",
    "Input Description:\n",
    "First-line indicates two integers separated by space. Second-line indicates three integers separated by space. Third-line indicates three integers separated by space\n",
    "\n",
    "Output Description:\n",
    "Print the input in the same format.\n",
    "\n",
    "Sample Input :\n",
    "\n",
    "2 5\n",
    "\n",
    "2 5 6\n",
    "\n",
    "2 4 5\n",
    "\n",
    "Sample Output :\n",
    "\n",
    "2 5\n",
    "\n",
    "2 5 6\n",
    "\n",
    "2 4 5"
   ]
  },
  {
   "cell_type": "code",
   "execution_count": 1,
   "metadata": {},
   "outputs": [
    {
     "name": "stdout",
     "output_type": "stream",
     "text": [
      "2 5\n",
      "2 5 6\n",
      "2 4 5\n"
     ]
    }
   ],
   "source": [
    "for i in range(3):\n",
    "    arr = list(map(int, input().split()))\n",
    "    print(*arr)\n"
   ]
  }
 ],
 "metadata": {
  "kernelspec": {
   "display_name": "Python 3",
   "language": "python",
   "name": "python3"
  },
  "language_info": {
   "codemirror_mode": {
    "name": "ipython",
    "version": 3
   },
   "file_extension": ".py",
   "mimetype": "text/x-python",
   "name": "python",
   "nbconvert_exporter": "python",
   "pygments_lexer": "ipython3",
   "version": "3.12.0"
  }
 },
 "nbformat": 4,
 "nbformat_minor": 2
}
